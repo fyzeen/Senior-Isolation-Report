{
 "cells": [
  {
   "cell_type": "markdown",
   "id": "ef235de9",
   "metadata": {},
   "source": [
    "# Senior Isolation Notebook\n"
   ]
  },
  {
   "cell_type": "code",
   "execution_count": null,
   "id": "8e99c95a",
   "metadata": {},
   "outputs": [],
   "source": []
  },
  {
   "cell_type": "code",
   "execution_count": 24,
   "id": "0e22bcd1",
   "metadata": {},
   "outputs": [],
   "source": [
    "#Set up: importing modules, reading data from CSV files, setting indices, etc\n",
    "\n",
    "import pandas as pd\n",
    "import numpy as np\n",
    "import math\n",
    "import matplotlib.pyplot as plt\n",
    "\n",
    "altarum_loneliness = pd.read_csv('Data/altarum_loneliness_data.csv')\n",
    "altarum_visitors = pd.read_csv('Data/altarum_visitors_per_week_data.csv')\n",
    "ipsos_loneliness = pd.read_csv('Data/ipsos_loneliness_data.csv')\n",
    "\n",
    "altarum_loneliness = altarum_loneliness.set_index('Unnamed: 0')\n",
    "altarum_visitors = altarum_visitors.set_index('Unnamed: 0')\n",
    "ipsos_loneliness = ipsos_loneliness.set_index('Unnamed: 0')\n",
    "\n",
    "%matplotlib inline\n",
    "plt.style.use(\"seaborn\")"
   ]
  },
  {
   "cell_type": "code",
   "execution_count": null,
   "id": "77967a14",
   "metadata": {},
   "outputs": [],
   "source": []
  },
  {
   "cell_type": "code",
   "execution_count": null,
   "id": "ff8f9784",
   "metadata": {},
   "outputs": [],
   "source": []
  },
  {
   "cell_type": "code",
   "execution_count": null,
   "id": "81682e71",
   "metadata": {},
   "outputs": [],
   "source": []
  },
  {
   "cell_type": "code",
   "execution_count": null,
   "id": "ab7aa126",
   "metadata": {},
   "outputs": [],
   "source": []
  },
  {
   "cell_type": "markdown",
   "id": "557ebb7d",
   "metadata": {},
   "source": [
    "HRS: Loneliness as function of age"
   ]
  },
  {
   "cell_type": "code",
   "execution_count": null,
   "id": "acaa52bd",
   "metadata": {},
   "outputs": [],
   "source": []
  },
  {
   "cell_type": "markdown",
   "id": "af73c379",
   "metadata": {},
   "source": [
    "Altarum Survey: Loneliness increase after restrictions implemented"
   ]
  },
  {
   "cell_type": "code",
   "execution_count": null,
   "id": "283c2d53",
   "metadata": {},
   "outputs": [],
   "source": []
  },
  {
   "cell_type": "markdown",
   "id": "a5154885",
   "metadata": {},
   "source": [
    "Altarum Survey: Visitors before and after restrictions implemented"
   ]
  },
  {
   "cell_type": "code",
   "execution_count": null,
   "id": "2eba6320",
   "metadata": {},
   "outputs": [],
   "source": []
  },
  {
   "cell_type": "markdown",
   "id": "99644a80",
   "metadata": {},
   "source": [
    "Ipsos Survey: Loneliness among all Americans (and entire world) from COVID"
   ]
  },
  {
   "cell_type": "code",
   "execution_count": null,
   "id": "148a2be4",
   "metadata": {},
   "outputs": [],
   "source": []
  },
  {
   "cell_type": "code",
   "execution_count": null,
   "id": "94e09392",
   "metadata": {},
   "outputs": [],
   "source": [
    "NSHAP: Correlations of loneliness with depression and aniety among elderly "
   ]
  },
  {
   "cell_type": "code",
   "execution_count": null,
   "id": "667a6c06",
   "metadata": {},
   "outputs": [],
   "source": []
  },
  {
   "cell_type": "markdown",
   "id": "402a5497",
   "metadata": {},
   "source": [
    "HRS: Increased number of physician visits (and hospitalizations) when lonely"
   ]
  },
  {
   "cell_type": "code",
   "execution_count": null,
   "id": "35d91c36",
   "metadata": {},
   "outputs": [],
   "source": []
  },
  {
   "cell_type": "code",
   "execution_count": null,
   "id": "bd4f727e",
   "metadata": {},
   "outputs": [],
   "source": []
  }
 ],
 "metadata": {
  "kernelspec": {
   "display_name": "Python 3 (ipykernel)",
   "language": "python",
   "name": "python3"
  },
  "language_info": {
   "codemirror_mode": {
    "name": "ipython",
    "version": 3
   },
   "file_extension": ".py",
   "mimetype": "text/x-python",
   "name": "python",
   "nbconvert_exporter": "python",
   "pygments_lexer": "ipython3",
   "version": "3.9.5"
  }
 },
 "nbformat": 4,
 "nbformat_minor": 5
}
